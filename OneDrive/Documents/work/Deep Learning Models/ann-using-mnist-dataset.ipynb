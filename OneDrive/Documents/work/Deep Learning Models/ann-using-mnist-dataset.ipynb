{
 "cells": [
  {
   "cell_type": "markdown",
   "id": "45421f80",
   "metadata": {
    "_cell_guid": "b1076dfc-b9ad-4769-8c92-a6c4dae69d19",
    "_uuid": "8f2839f25d086af736a60e9eeb907d3b93b6e0e5",
    "papermill": {
     "duration": 0.006686,
     "end_time": "2022-08-22T13:33:24.464399",
     "exception": false,
     "start_time": "2022-08-22T13:33:24.457713",
     "status": "completed"
    },
    "tags": []
   },
   "source": [
    "# 1. GOAL\n",
    "\n",
    "#### Our goal is to build and train a neural network, which recognizes handwritten digits with a mind-blowing accuracy. It will be able to recognize the digits from 0 to 9."
   ]
  },
  {
   "cell_type": "markdown",
   "id": "7c1cd47b",
   "metadata": {
    "papermill": {
     "duration": 0.005607,
     "end_time": "2022-08-22T13:33:24.475904",
     "exception": false,
     "start_time": "2022-08-22T13:33:24.470297",
     "status": "completed"
    },
    "tags": []
   },
   "source": [
    "# 2. REQUIRED LIBRARIES"
   ]
  },
  {
   "cell_type": "code",
   "execution_count": null,
   "id": "81bab88b",
   "metadata": {},
   "outputs": [],
   "source": [
    "! pip install opencv-python"
   ]
  },
  {
   "cell_type": "code",
   "execution_count": 4,
   "id": "2a37b4a6",
   "metadata": {},
   "outputs": [
    {
     "name": "stdout",
     "output_type": "stream",
     "text": [
      "Requirement already satisfied: opencv-python-headless in c:\\python312\\lib\\site-packages (4.11.0.86)\n",
      "Requirement already satisfied: numpy>=1.21.2 in c:\\python312\\lib\\site-packages (from opencv-python-headless) (2.0.2)\n"
     ]
    },
    {
     "name": "stderr",
     "output_type": "stream",
     "text": [
      "WARNING: Ignoring invalid distribution ~ (C:\\Python312\\Lib\\site-packages)\n",
      "WARNING: Ignoring invalid distribution ~ (C:\\Python312\\Lib\\site-packages)\n",
      "WARNING: Ignoring invalid distribution ~ (C:\\Python312\\Lib\\site-packages)\n"
     ]
    }
   ],
   "source": [
    "! pip install opencv-python-headless\n"
   ]
  },
  {
   "cell_type": "code",
   "execution_count": 5,
   "id": "4d298d11",
   "metadata": {
    "execution": {
     "iopub.execute_input": "2022-08-22T13:33:24.489563Z",
     "iopub.status.busy": "2022-08-22T13:33:24.488873Z",
     "iopub.status.idle": "2022-08-22T13:33:29.166163Z",
     "shell.execute_reply": "2022-08-22T13:33:29.165208Z"
    },
    "papermill": {
     "duration": 4.686933,
     "end_time": "2022-08-22T13:33:29.168538",
     "exception": false,
     "start_time": "2022-08-22T13:33:24.481605",
     "status": "completed"
    },
    "tags": []
   },
   "outputs": [],
   "source": [
    "import cv2   # it will allow us to load our images into the script\n",
    "import numpy as np   # used for reformatting our own images\n",
    "import tensorflow as tf   # main library used to load data sets, build neural networks, train them, etc.\n",
    "import matplotlib.pyplot as plt   # used for visualization"
   ]
  },
  {
   "cell_type": "markdown",
   "id": "273a8ab0",
   "metadata": {
    "papermill": {
     "duration": 0.005677,
     "end_time": "2022-08-22T13:33:29.180294",
     "exception": false,
     "start_time": "2022-08-22T13:33:29.174617",
     "status": "completed"
    },
    "tags": []
   },
   "source": [
    "# 3. LOADING AND PREPARING DATA\n",
    "\n",
    "- MNIST dataset contains 60,000 training examples and 10,000 testing examples of handwritten digits that are already classified correctly. \n",
    "- These images have a resolution of 28x28 pixels.\n",
    "- We will use the *keras* module, in order to load the dataset.\n",
    "- In order to get the dataset, we access the *mnist* object from the *keras.datasets*.\n",
    "- Then we call the *load_function* dataset. This function automatically splits the data appropriately and returns a tuple with the training data and a tuple with the testing data."
   ]
  },
  {
   "cell_type": "code",
   "execution_count": 6,
   "id": "24441e51",
   "metadata": {
    "execution": {
     "iopub.execute_input": "2022-08-22T13:33:29.193551Z",
     "iopub.status.busy": "2022-08-22T13:33:29.193018Z",
     "iopub.status.idle": "2022-08-22T13:33:30.546709Z",
     "shell.execute_reply": "2022-08-22T13:33:30.545807Z"
    },
    "papermill": {
     "duration": 1.362681,
     "end_time": "2022-08-22T13:33:30.548799",
     "exception": false,
     "start_time": "2022-08-22T13:33:29.186118",
     "status": "completed"
    },
    "tags": []
   },
   "outputs": [],
   "source": [
    "(X_train, y_train), (X_test, y_test) = tf.keras.datasets.mnist.load_data()"
   ]
  },
  {
   "cell_type": "code",
   "execution_count": 7,
   "id": "5a0d0cfa",
   "metadata": {
    "execution": {
     "iopub.execute_input": "2022-08-22T13:33:30.562360Z",
     "iopub.status.busy": "2022-08-22T13:33:30.562067Z",
     "iopub.status.idle": "2022-08-22T13:33:30.566208Z",
     "shell.execute_reply": "2022-08-22T13:33:30.565689Z"
    },
    "papermill": {
     "duration": 0.012918,
     "end_time": "2022-08-22T13:33:30.568038",
     "exception": false,
     "start_time": "2022-08-22T13:33:30.555120",
     "status": "completed"
    },
    "tags": []
   },
   "outputs": [
    {
     "name": "stdout",
     "output_type": "stream",
     "text": [
      "The shape of the training inputs: (60000, 28, 28)\n",
      "The shape of the training labels: (60000,)\n",
      "The shape of the testing inputs: (10000, 28, 28)\n",
      "The shape of the testing labels: (10000,)\n"
     ]
    }
   ],
   "source": [
    "print('The shape of the training inputs:', X_train.shape)\n",
    "print('The shape of the training labels:',y_train.shape)\n",
    "print('The shape of the testing inputs:',X_test.shape)\n",
    "print('The shape of the testing labels:',y_test.shape)"
   ]
  },
  {
   "cell_type": "markdown",
   "id": "fa654fa4",
   "metadata": {
    "papermill": {
     "duration": 0.00585,
     "end_time": "2022-08-22T13:33:30.579927",
     "exception": false,
     "start_time": "2022-08-22T13:33:30.574077",
     "status": "completed"
    },
    "tags": []
   },
   "source": [
    "# 4. PLOTTING THE DATA"
   ]
  },
  {
   "cell_type": "code",
   "execution_count": 19,
   "id": "7dacbbb3",
   "metadata": {
    "execution": {
     "iopub.execute_input": "2022-08-22T13:33:30.593028Z",
     "iopub.status.busy": "2022-08-22T13:33:30.592640Z",
     "iopub.status.idle": "2022-08-22T13:33:31.313253Z",
     "shell.execute_reply": "2022-08-22T13:33:31.312177Z"
    },
    "papermill": {
     "duration": 0.729111,
     "end_time": "2022-08-22T13:33:31.314985",
     "exception": false,
     "start_time": "2022-08-22T13:33:30.585874",
     "status": "completed"
    },
    "tags": []
   },
   "outputs": [
    {
     "data": {
      "image/png": "[encoded data removed]",
      "text/plain": [
       "<Figure size 640x480 with 9 Axes>"
      ]
     },
     "metadata": {},
     "output_type": "display_data"
    }
   ],
   "source": [
    "# plotting the first 9 images in the train set of MNIST\n",
    " \n",
    "fig, axs = plt.subplots(3, 3) \n",
    "cnt = 0\n",
    "for i in range(3):\n",
    "     for j in range(3):\n",
    "         axs[i, j].imshow(X_train[cnt])\n",
    "         cnt += 1"
   ]
  },
  {
   "cell_type": "markdown",
   "id": "058a9865",
   "metadata": {
    "papermill": {
     "duration": 0.006299,
     "end_time": "2022-08-22T13:33:31.328122",
     "exception": false,
     "start_time": "2022-08-22T13:33:31.321823",
     "status": "completed"
    },
    "tags": []
   },
   "source": [
    "# 5. NORMALIZE THE DATA\n",
    "\n",
    "- In order to make the whole data easier to process, we are going to normalize it. This means that we scale down all the values so that they end up between 0 and 1.\n",
    "- For this we use the normalize function of *keras.uitils*."
   ]
  },
  {
   "cell_type": "code",
   "execution_count": null,
   "id": "00541497",
   "metadata": {
    "execution": {
     "iopub.execute_input": "2022-08-22T13:33:31.343148Z",
     "iopub.status.busy": "2022-08-22T13:33:31.342255Z",
     "iopub.status.idle": "2022-08-22T13:33:31.635319Z",
     "shell.execute_reply": "2022-08-22T13:33:31.634397Z"
    },
    "papermill": {
     "duration": 0.302588,
     "end_time": "2022-08-22T13:33:31.637551",
     "exception": false,
     "start_time": "2022-08-22T13:33:31.334963",
     "status": "completed"
    },
    "tags": []
   },
   "outputs": [],
   "source": [
    "X_train = tf.keras.utils.normalize(X_train, axis=1)\n",
    "X_test = tf.keras.utils.normalize(X_test, axis=1)"
   ]
  },
  {
   "cell_type": "code",
   "execution_count": 22,
   "id": "abece1df",
   "metadata": {},
   "outputs": [
    {
     "data": {
      "text/plain": [
       "(60000,)"
      ]
     },
     "execution_count": 22,
     "metadata": {},
     "output_type": "execute_result"
    }
   ],
   "source": [
    "y_train.shape"
   ]
  },
  {
   "cell_type": "markdown",
   "id": "661adfbf",
   "metadata": {
    "papermill": {
     "duration": 0.006662,
     "end_time": "2022-08-22T13:33:31.651500",
     "exception": false,
     "start_time": "2022-08-22T13:33:31.644838",
     "status": "completed"
    },
    "tags": []
   },
   "source": [
    "# 6. BUILDING THE NEURAL NETWORK\n",
    "\n",
    "- We use the *models* module from *keras* to create a new neural network. The *Sequential* constructor does this for us."
   ]
  },
  {
   "cell_type": "code",
   "execution_count": null,
   "id": "c0ffc00d",
   "metadata": {
    "execution": {
     "iopub.execute_input": "2022-08-22T13:33:31.666946Z",
     "iopub.status.busy": "2022-08-22T13:33:31.665882Z",
     "iopub.status.idle": "2022-08-22T13:33:31.715162Z",
     "shell.execute_reply": "2022-08-22T13:33:31.714283Z"
    },
    "papermill": {
     "duration": 0.058657,
     "end_time": "2022-08-22T13:33:31.716859",
     "exception": false,
     "start_time": "2022-08-22T13:33:31.658202",
     "status": "completed"
    },
    "tags": []
   },
   "outputs": [
    {
     "name": "stderr",
     "output_type": "stream",
     "text": [
      "2022-08-22 13:33:31.696060: I tensorflow/core/common_runtime/process_util.cc:146] Creating new thread pool with default inter op setting: 2. Tune using inter_op_parallelism_threads for best performance.\n"
     ]
    }
   ],
   "source": [
    "model = tf.keras.models.Sequential()"
   ]
  },
  {
   "cell_type": "markdown",
   "id": "6b129230",
   "metadata": {
    "papermill": {
     "duration": 0.006256,
     "end_time": "2022-08-22T13:33:31.729944",
     "exception": false,
     "start_time": "2022-08-22T13:33:31.723688",
     "status": "completed"
    },
    "tags": []
   },
   "source": [
    "- Now we have a model, which doesn't have any layers in it. Those have to be added manually."
   ]
  },
  {
   "cell_type": "code",
   "execution_count": null,
   "id": "9dee91d1",
   "metadata": {
    "execution": {
     "iopub.execute_input": "2022-08-22T13:33:31.744328Z",
     "iopub.status.busy": "2022-08-22T13:33:31.743882Z",
     "iopub.status.idle": "2022-08-22T13:33:31.758859Z",
     "shell.execute_reply": "2022-08-22T13:33:31.758227Z"
    },
    "papermill": {
     "duration": 0.023896,
     "end_time": "2022-08-22T13:33:31.760425",
     "exception": false,
     "start_time": "2022-08-22T13:33:31.736529",
     "status": "completed"
    },
    "tags": []
   },
   "outputs": [],
   "source": [
    "model.add(tf.keras.layers.Flatten(input_shape=(28,28)))   # input layer"
   ]
  },
  {
   "cell_type": "markdown",
   "id": "fb038eec",
   "metadata": {
    "papermill": {
     "duration": 0.006261,
     "end_time": "2022-08-22T13:33:31.773230",
     "exception": false,
     "start_time": "2022-08-22T13:33:31.766969",
     "status": "completed"
    },
    "tags": []
   },
   "source": [
    "- We start out by adding a so-called *Flatten* layer as our first layer.\n",
    "- In order to add a layer to our model, we use the *add* function. Then we can choose the kind of layer that we want from the *layers* module.\n",
    "- We specified an input shape of 28x28 which represents the resolution of images.\n",
    "- What a flattened layer basically does is it flattens the input and makes it one dimensional. So instead of a 28x28 grid, we end up with 784 neurons lined up."
   ]
  },
  {
   "cell_type": "code",
   "execution_count": null,
   "id": "7bce0d0c",
   "metadata": {
    "execution": {
     "iopub.execute_input": "2022-08-22T13:33:31.787418Z",
     "iopub.status.busy": "2022-08-22T13:33:31.786971Z",
     "iopub.status.idle": "2022-08-22T13:33:31.825340Z",
     "shell.execute_reply": "2022-08-22T13:33:31.824618Z"
    },
    "papermill": {
     "duration": 0.047534,
     "end_time": "2022-08-22T13:33:31.827251",
     "exception": false,
     "start_time": "2022-08-22T13:33:31.779717",
     "status": "completed"
    },
    "tags": []
   },
   "outputs": [],
   "source": [
    "model.add(tf.keras.layers.Dense(units=128, activation=tf.nn.relu))   # 1st hidden layer\n",
    "model.add(tf.keras.layers.Dense(units=128, activation=tf.nn.relu))   # 2nd hidden layer"
   ]
  },
  {
   "cell_type": "markdown",
   "id": "4090fe4b",
   "metadata": {
    "papermill": {
     "duration": 0.006583,
     "end_time": "2022-08-22T13:33:31.841006",
     "exception": false,
     "start_time": "2022-08-22T13:33:31.834423",
     "status": "completed"
    },
    "tags": []
   },
   "source": [
    "- We added two dense layers. These are our hidden layers and increase the complexity of our model.\n",
    "- Both layers have 128 neurons each.\n",
    "- The activation function is ReLU function.\n",
    "- Dense layers connect every neuron of this layer with all the neurons of the next and previous layer."
   ]
  },
  {
   "cell_type": "code",
   "execution_count": null,
   "id": "214136b3",
   "metadata": {
    "execution": {
     "iopub.execute_input": "2022-08-22T13:33:31.855991Z",
     "iopub.status.busy": "2022-08-22T13:33:31.855500Z",
     "iopub.status.idle": "2022-08-22T13:33:31.865759Z",
     "shell.execute_reply": "2022-08-22T13:33:31.865137Z"
    },
    "papermill": {
     "duration": 0.019815,
     "end_time": "2022-08-22T13:33:31.867493",
     "exception": false,
     "start_time": "2022-08-22T13:33:31.847678",
     "status": "completed"
    },
    "tags": []
   },
   "outputs": [],
   "source": [
    "model.add(tf.keras.layers.Dense(units=10, activation=tf.nn.softmax))   # output layer"
   ]
  },
  {
   "cell_type": "markdown",
   "id": "9ae19e3e",
   "metadata": {
    "papermill": {
     "duration": 0.006575,
     "end_time": "2022-08-22T13:33:31.881038",
     "exception": false,
     "start_time": "2022-08-22T13:33:31.874463",
     "status": "completed"
    },
    "tags": []
   },
   "source": [
    "- Last but not least we add an output layer. This one is also a dense layer but it only has 10 neurons and a different activation function.\n",
    "- The values of the 10 neurons indicate how much our model believes that the respective number is the right classification.\n",
    "- The first neuron is for the zero, the second for the one and so on.\n",
    "- The activation function that we use here is the *softmax* function. This function scales the output values so that they all add upto one. Thus it transforms the absolute values into relative values.- "
   ]
  },
  {
   "cell_type": "code",
   "execution_count": null,
   "id": "faa568c1",
   "metadata": {
    "execution": {
     "iopub.execute_input": "2022-08-22T13:33:31.896262Z",
     "iopub.status.busy": "2022-08-22T13:33:31.895815Z",
     "iopub.status.idle": "2022-08-22T13:33:31.900229Z",
     "shell.execute_reply": "2022-08-22T13:33:31.899452Z"
    },
    "papermill": {
     "duration": 0.014468,
     "end_time": "2022-08-22T13:33:31.902355",
     "exception": false,
     "start_time": "2022-08-22T13:33:31.887887",
     "status": "completed"
    },
    "tags": []
   },
   "outputs": [
    {
     "name": "stdout",
     "output_type": "stream",
     "text": [
      "Model: \"sequential\"\n",
      "_________________________________________________________________\n",
      "Layer (type)                 Output Shape              Param #   \n",
      "=================================================================\n",
      "flatten (Flatten)            (None, 784)               0         \n",
      "_________________________________________________________________\n",
      "dense (Dense)                (None, 128)               100480    \n",
      "_________________________________________________________________\n",
      "dense_1 (Dense)              (None, 128)               16512     \n",
      "_________________________________________________________________\n",
      "dense_2 (Dense)              (None, 10)                1290      \n",
      "=================================================================\n",
      "Total params: 118,282\n",
      "Trainable params: 118,282\n",
      "Non-trainable params: 0\n",
      "_________________________________________________________________\n"
     ]
    }
   ],
   "source": [
    "model.summary()"
   ]
  },
  {
   "cell_type": "markdown",
   "id": "6d8e7e2b",
   "metadata": {
    "papermill": {
     "duration": 0.006615,
     "end_time": "2022-08-22T13:33:31.915942",
     "exception": false,
     "start_time": "2022-08-22T13:33:31.909327",
     "status": "completed"
    },
    "tags": []
   },
   "source": [
    "# 7. COMPILING THE MODEL\n",
    "\n",
    "- Before we start training and testing our model, we need to compile it first. This optimizes it and we can also choose a loss function.\n",
    "- An optimizer is a function or an algorithm that modifies the attributes of the neural network, such as weights and learning rate. Thus, it helps in reducing the overall loss and improve the accuracy. "
   ]
  },
  {
   "cell_type": "code",
   "execution_count": null,
   "id": "796f8185",
   "metadata": {
    "execution": {
     "iopub.execute_input": "2022-08-22T13:33:31.930529Z",
     "iopub.status.busy": "2022-08-22T13:33:31.930153Z",
     "iopub.status.idle": "2022-08-22T13:33:31.940544Z",
     "shell.execute_reply": "2022-08-22T13:33:31.939968Z"
    },
    "papermill": {
     "duration": 0.019645,
     "end_time": "2022-08-22T13:33:31.942261",
     "exception": false,
     "start_time": "2022-08-22T13:33:31.922616",
     "status": "completed"
    },
    "tags": []
   },
   "outputs": [],
   "source": [
    "model.compile(optimizer='adam', loss='sparse_categorical_crossentropy', metrics=['accuracy'])"
   ]
  },
  {
   "cell_type": "markdown",
   "id": "b31693be",
   "metadata": {
    "papermill": {
     "duration": 0.006541,
     "end_time": "2022-08-22T13:33:31.955544",
     "exception": false,
     "start_time": "2022-08-22T13:33:31.949003",
     "status": "completed"
    },
    "tags": []
   },
   "source": [
    "# 8. TRAINING AND TESTING\n",
    "\n",
    "- Now, we get to the essential part of the whole project - the training and testing.\n",
    "- For this, we just have to use the *fit* function of our model."
   ]
  },
  {
   "cell_type": "code",
   "execution_count": null,
   "id": "00bcdc09",
   "metadata": {
    "execution": {
     "iopub.execute_input": "2022-08-22T13:33:31.970204Z",
     "iopub.status.busy": "2022-08-22T13:33:31.969909Z",
     "iopub.status.idle": "2022-08-22T13:33:44.503073Z",
     "shell.execute_reply": "2022-08-22T13:33:44.501916Z"
    },
    "papermill": {
     "duration": 12.542662,
     "end_time": "2022-08-22T13:33:44.504788",
     "exception": false,
     "start_time": "2022-08-22T13:33:31.962126",
     "status": "completed"
    },
    "tags": []
   },
   "outputs": [
    {
     "name": "stderr",
     "output_type": "stream",
     "text": [
      "2022-08-22 13:33:32.135223: I tensorflow/compiler/mlir/mlir_graph_optimization_pass.cc:185] None of the MLIR Optimization Passes are enabled (registered 2)\n"
     ]
    },
    {
     "name": "stdout",
     "output_type": "stream",
     "text": [
      "Epoch 1/10\n",
      "600/600 [==============================] - 2s 2ms/step - loss: 0.3481 - accuracy: 0.9021\n",
      "Epoch 2/10\n",
      "600/600 [==============================] - 1s 2ms/step - loss: 0.1440 - accuracy: 0.9561\n",
      "Epoch 3/10\n",
      "600/600 [==============================] - 1s 2ms/step - loss: 0.0977 - accuracy: 0.9701\n",
      "Epoch 4/10\n",
      "600/600 [==============================] - 1s 2ms/step - loss: 0.0730 - accuracy: 0.9776\n",
      "Epoch 5/10\n",
      "600/600 [==============================] - 1s 2ms/step - loss: 0.0579 - accuracy: 0.9813\n",
      "Epoch 6/10\n",
      "600/600 [==============================] - 1s 2ms/step - loss: 0.0451 - accuracy: 0.9858\n",
      "Epoch 7/10\n",
      "600/600 [==============================] - 1s 2ms/step - loss: 0.0364 - accuracy: 0.9881\n",
      "Epoch 8/10\n",
      "600/600 [==============================] - 1s 2ms/step - loss: 0.0288 - accuracy: 0.9908\n",
      "Epoch 9/10\n",
      "600/600 [==============================] - 1s 2ms/step - loss: 0.0237 - accuracy: 0.9927\n",
      "Epoch 10/10\n",
      "600/600 [==============================] - 1s 2ms/step - loss: 0.0185 - accuracy: 0.9941\n"
     ]
    },
    {
     "data": {
      "text/plain": [
       "<keras.callbacks.History at 0x7fb76009b790>"
      ]
     },
     "execution_count": 12,
     "metadata": {},
     "output_type": "execute_result"
    }
   ],
   "source": [
    "model.fit(X_train, y_train, epochs=10, batch_size=100)"
   ]
  },
  {
   "cell_type": "markdown",
   "id": "291f57ed",
   "metadata": {
    "papermill": {
     "duration": 0.020145,
     "end_time": "2022-08-22T13:33:44.545136",
     "exception": false,
     "start_time": "2022-08-22T13:33:44.524991",
     "status": "completed"
    },
    "tags": []
   },
   "source": [
    "- *epochs* - This number defines how many times our model is going to see the same data over and over again.\n",
    "- *batch_size* - This refers to the number of training examples utilized in one iteration."
   ]
  },
  {
   "cell_type": "markdown",
   "id": "831a963f",
   "metadata": {
    "papermill": {
     "duration": 0.019463,
     "end_time": "2022-08-22T13:33:44.584376",
     "exception": false,
     "start_time": "2022-08-22T13:33:44.564913",
     "status": "completed"
    },
    "tags": []
   },
   "source": [
    "# 9. MODEL EVALUATION\n",
    "\n",
    "- We use the evaluate method and pass our testing data, to determine the accuracy and the loss."
   ]
  },
  {
   "cell_type": "code",
   "execution_count": null,
   "id": "4582fc22",
   "metadata": {
    "execution": {
     "iopub.execute_input": "2022-08-22T13:33:44.625495Z",
     "iopub.status.busy": "2022-08-22T13:33:44.624620Z",
     "iopub.status.idle": "2022-08-22T13:33:45.110871Z",
     "shell.execute_reply": "2022-08-22T13:33:45.109870Z"
    },
    "papermill": {
     "duration": 0.508615,
     "end_time": "2022-08-22T13:33:45.112627",
     "exception": false,
     "start_time": "2022-08-22T13:33:44.604012",
     "status": "completed"
    },
    "tags": []
   },
   "outputs": [
    {
     "name": "stdout",
     "output_type": "stream",
     "text": [
      "313/313 [==============================] - 0s 963us/step - loss: 0.1014 - accuracy: 0.9734\n",
      "0.10141128301620483\n",
      "0.9733999967575073\n"
     ]
    }
   ],
   "source": [
    "loss, accuracy = model.evaluate(X_test, y_test)\n",
    "print(loss)\n",
    "print(accuracy)"
   ]
  },
  {
   "cell_type": "markdown",
   "id": "a340bd97",
   "metadata": {
    "papermill": {
     "duration": 0.019812,
     "end_time": "2022-08-22T13:33:45.152637",
     "exception": false,
     "start_time": "2022-08-22T13:33:45.132825",
     "status": "completed"
    },
    "tags": []
   },
   "source": [
    "# 10. PREDICTION\n",
    "\n",
    "- We use *predict* method to make prediction of our image."
   ]
  },
  {
   "cell_type": "code",
   "execution_count": null,
   "id": "bb1f6429",
   "metadata": {
    "execution": {
     "iopub.execute_input": "2022-08-22T13:33:45.193902Z",
     "iopub.status.busy": "2022-08-22T13:33:45.193571Z",
     "iopub.status.idle": "2022-08-22T13:33:45.553381Z",
     "shell.execute_reply": "2022-08-22T13:33:45.552414Z"
    },
    "papermill": {
     "duration": 0.38249,
     "end_time": "2022-08-22T13:33:45.555196",
     "exception": false,
     "start_time": "2022-08-22T13:33:45.172706",
     "status": "completed"
    },
    "tags": []
   },
   "outputs": [
    {
     "data": {
      "text/plain": [
       "array([[2.9349448e-10, 3.3309765e-11, 1.0354743e-08, ..., 9.9999917e-01,\n",
       "        6.2142583e-11, 7.7787547e-08],\n",
       "       [4.8538640e-10, 4.0755052e-07, 9.9999952e-01, ..., 1.7000990e-12,\n",
       "        8.4871013e-11, 6.4902629e-16],\n",
       "       [9.7376351e-10, 9.9995279e-01, 2.7530501e-07, ..., 8.8338511e-06,\n",
       "        2.7675973e-05, 8.1236822e-09],\n",
       "       ...,\n",
       "       [1.3523556e-13, 1.6645138e-10, 1.6359313e-14, ..., 4.5651916e-08,\n",
       "        1.6748289e-10, 6.2406334e-06],\n",
       "       [9.7709503e-09, 6.3724924e-12, 8.8690574e-12, ..., 4.6107194e-09,\n",
       "        6.0486718e-07, 2.3434598e-12],\n",
       "       [1.0399030e-07, 2.1563721e-14, 2.3253503e-10, ..., 2.3800863e-17,\n",
       "        4.4567935e-13, 2.3413430e-12]], dtype=float32)"
      ]
     },
     "execution_count": 14,
     "metadata": {},
     "output_type": "execute_result"
    }
   ],
   "source": [
    "prediction = model.predict([X_test])\n",
    "prediction"
   ]
  },
  {
   "cell_type": "markdown",
   "id": "15a38f20",
   "metadata": {
    "papermill": {
     "duration": 0.02021,
     "end_time": "2022-08-22T13:33:45.596271",
     "exception": false,
     "start_time": "2022-08-22T13:33:45.576061",
     "status": "completed"
    },
    "tags": []
   },
   "source": [
    "- This prediction consists of the ten activations or probabilities from the output neurons. \n",
    "- Since we need to generate a result out of that, we are going to use the *argmax* function. This function returns the index of the highest value.\n",
    "- In this case this is equivalent to the digit with the highest probability or activation."
   ]
  },
  {
   "cell_type": "code",
   "execution_count": null,
   "id": "b5944156",
   "metadata": {
    "execution": {
     "iopub.execute_input": "2022-08-22T13:33:45.639397Z",
     "iopub.status.busy": "2022-08-22T13:33:45.638790Z",
     "iopub.status.idle": "2022-08-22T13:33:45.644801Z",
     "shell.execute_reply": "2022-08-22T13:33:45.643794Z"
    },
    "papermill": {
     "duration": 0.029776,
     "end_time": "2022-08-22T13:33:45.646717",
     "exception": false,
     "start_time": "2022-08-22T13:33:45.616941",
     "status": "completed"
    },
    "tags": []
   },
   "outputs": [
    {
     "name": "stdout",
     "output_type": "stream",
     "text": [
      "Probabilities:  [9.9999976e-01 1.7582399e-12 2.4346406e-07 6.0311708e-12 6.1854879e-12\n",
      " 3.0335165e-10 1.7363382e-08 5.0781473e-11 5.7054621e-12 5.5353344e-09]\n",
      "\n",
      "\n",
      "Prediction:  0\n"
     ]
    }
   ],
   "source": [
    "# let us do prediction for single image\n",
    "\n",
    "print('Probabilities: ', prediction[10])\n",
    "print('\\n')\n",
    "print('Prediction: ', np.argmax(prediction[10]))"
   ]
  },
  {
   "cell_type": "code",
   "execution_count": null,
   "id": "d8fa54a3",
   "metadata": {
    "execution": {
     "iopub.execute_input": "2022-08-22T13:33:45.689187Z",
     "iopub.status.busy": "2022-08-22T13:33:45.688876Z",
     "iopub.status.idle": "2022-08-22T13:33:45.814177Z",
     "shell.execute_reply": "2022-08-22T13:33:45.813377Z"
    },
    "papermill": {
     "duration": 0.149158,
     "end_time": "2022-08-22T13:33:45.816372",
     "exception": false,
     "start_time": "2022-08-22T13:33:45.667214",
     "status": "completed"
    },
    "tags": []
   },
   "outputs": [
    {
     "data": {
      "image/png": "[encoded data removed]",
      "text/plain": [
       "<Figure size 432x288 with 1 Axes>"
      ]
     },
     "metadata": {
      "needs_background": "light"
     },
     "output_type": "display_data"
    }
   ],
   "source": [
    "# visualize the image\n",
    "\n",
    "plt.imshow(X_test[10])\n",
    "plt.show()"
   ]
  },
  {
   "cell_type": "markdown",
   "id": "b4e0c3b0",
   "metadata": {
    "papermill": {
     "duration": 0.021403,
     "end_time": "2022-08-22T13:33:45.863873",
     "exception": false,
     "start_time": "2022-08-22T13:33:45.842470",
     "status": "completed"
    },
    "tags": []
   },
   "source": [
    "- We can see that our model is pretty accurate. But it can still make mistakes, especially if we tend to write digits in a very unusual way."
   ]
  },
  {
   "cell_type": "markdown",
   "id": "879803f2",
   "metadata": {
    "papermill": {
     "duration": 0.022665,
     "end_time": "2022-08-22T13:33:45.910791",
     "exception": false,
     "start_time": "2022-08-22T13:33:45.888126",
     "status": "completed"
    },
    "tags": []
   },
   "source": [
    "**Reference:**\n",
    "\n",
    "https://www.amazon.in/Python-Bible-Networks-Tensorflow-Learning-ebook/dp/B0854PPMLS/ref=sr_1_1?crid=33REOU4OQVMGO&keywords=the+python+bible+volume+6&qid=1661174448&sprefix=the+python+bible+volume+6%2Caps%2C397&sr=8-1"
   ]
  }
 ],
 "metadata": {
  "kernelspec": {
   "display_name": "Python312",
   "language": "python",
   "name": "python3"
  },
  "language_info": {
   "codemirror_mode": {
    "name": "ipython",
    "version": 3
   },
   "file_extension": ".py",
   "mimetype": "text/x-python",
   "name": "python",
   "nbconvert_exporter": "python",
   "pygments_lexer": "ipython3",
   "version": "3.12.4"
  },
  "papermill": {
   "default_parameters": {},
   "duration": 31.925337,
   "end_time": "2022-08-22T13:33:49.332862",
   "environment_variables": {},
   "exception": null,
   "input_path": "__notebook__.ipynb",
   "output_path": "__notebook__.ipynb",
   "parameters": {},
   "start_time": "2022-08-22T13:33:17.407525",
   "version": "2.3.4"
  }
 },
 "nbformat": 4,
 "nbformat_minor": 5
}
